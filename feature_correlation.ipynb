{
 "cells": [
  {
   "attachments": {},
   "cell_type": "markdown",
   "metadata": {},
   "source": [
    "## feauture correlation check for attrition in 2022\n",
    "dependent variabel = Leftthecompanyin2022"
   ]
  },
  {
   "cell_type": "code",
   "execution_count": 28,
   "metadata": {},
   "outputs": [],
   "source": [
    "from sklearn.feature_selection import SelectKBest, f_regression\n",
    "import pandas as pd\n",
    "\n",
    "\n",
    "\n"
   ]
  },
  {
   "attachments": {},
   "cell_type": "markdown",
   "metadata": {},
   "source": [
    "## Data praperation"
   ]
  },
  {
   "cell_type": "code",
   "execution_count": 29,
   "metadata": {},
   "outputs": [],
   "source": [
    "# Load data into pandas dataframe\n",
    "df = pd.read_csv('HR.csv', sep=';')\n",
    "\n",
    "# deleting clearly unuseful variables \n",
    "df = df.drop(['EmployeeNumber'], axis=1)\n",
    "\n",
    "# drop rows that contain at least one empty cell\n",
    "df = df.dropna(axis='rows', thresh=1)\n",
    "\n",
    "# feature engineering\n",
    "def binary_map(feature):\n",
    "    return feature.map({'Yes':1, 'No':0})\n",
    "\n",
    "# encoding Gender categorical data\n",
    "df['Gender'] = df['Gender'].map({'Male':1, 'Female':0})\n",
    "\n",
    "\n",
    "# one-hot encoding of features with more than two categories\n",
    "df = pd.get_dummies(df, drop_first=True)\n",
    "\n",
    "# Separate the dependent variable (y) from the independent variables (X)\n",
    "X = df.drop('Leftthecompanyin2022', axis=1)\n",
    "y = df['Leftthecompanyin2022']\n"
   ]
  },
  {
   "attachments": {},
   "cell_type": "markdown",
   "metadata": {},
   "source": [
    "## Feature selection using F-regression"
   ]
  },
  {
   "cell_type": "code",
   "execution_count": 30,
   "metadata": {},
   "outputs": [
    {
     "name": "stdout",
     "output_type": "stream",
     "text": [
      "Feature: Flightrisklikelihoodin2021  Score: 2282.476070850439\n",
      "Feature: JobSatisfaction  Score: 1042.8066003137053\n",
      "Feature: JobSatisfactionCont  Score: 907.2983257588901\n",
      "Feature: OverTimeVal  Score: 94.6564570717516\n",
      "Feature: OverTime_Yes  Score: 94.6564570717516\n",
      "Feature: YearsInCurrentRole  Score: 68.96993279349935\n",
      "Feature: TalentStatusVal  Score: 60.62789864056388\n",
      "Feature: MaritalStatus_Single  Score: 46.606984723810065\n",
      "Feature: JobLevel  Score: 43.2153438276782\n",
      "Feature: Salaryineuros  Score: 38.48881898380175\n",
      "Feature: Age  Score: 38.175886789733376\n",
      "Feature: JobRole_Office Support function  Score: 37.212797538044995\n",
      "Feature: YearsWithCurrManager  Score: 36.71231147388525\n",
      "Feature: TalentStatus_Contributor B  Score: 34.2754217463182\n",
      "Feature: MaritalStatusVal  Score: 31.96688609888264\n"
     ]
    }
   ],
   "source": [
    "\n",
    "# Using SelectKBest to select the k best features based on the f_regression test\n",
    "# adjust the number of features by changing the k value\n",
    "k = 15\n",
    "selector = SelectKBest(score_func=f_regression, k=k)\n",
    "X_new = selector.fit_transform(X, y)\n",
    "\n",
    "# Selected features and their corresponding scores\n",
    "mask = selector.get_support()\n",
    "selected_features = X.columns[mask]\n",
    "scores = selector.scores_[mask]\n",
    "\n",
    "# Create a list of tuples that combines the selected features and their corresponding scores\n",
    "features_scores = list(zip(selected_features, scores))\n",
    "\n",
    "# Sort the list in descending order based on the scores\n",
    "features_scores_sorted = sorted(features_scores, key=lambda x: x[1], reverse=True)\n",
    "\n",
    "# print the features and scores in descending order\n",
    "for feature, score in features_scores_sorted:\n",
    "    print('Feature:', feature, ' Score:', score)"
   ]
  }
 ],
 "metadata": {
  "kernelspec": {
   "display_name": "vendor",
   "language": "python",
   "name": "python3"
  },
  "language_info": {
   "codemirror_mode": {
    "name": "ipython",
    "version": 3
   },
   "file_extension": ".py",
   "mimetype": "text/x-python",
   "name": "python",
   "nbconvert_exporter": "python",
   "pygments_lexer": "ipython3",
   "version": "3.10.6"
  },
  "orig_nbformat": 4
 },
 "nbformat": 4,
 "nbformat_minor": 2
}
